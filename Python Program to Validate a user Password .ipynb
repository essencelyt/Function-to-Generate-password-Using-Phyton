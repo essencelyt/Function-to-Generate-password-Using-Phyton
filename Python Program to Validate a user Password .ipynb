{
 "cells": [
  {
   "cell_type": "code",
   "execution_count": 1,
   "id": "cabe0980",
   "metadata": {},
   "outputs": [
    {
     "name": "stdout",
     "output_type": "stream",
     "text": [
      "Please enter your preferred password: UMaine@orono#2020\n",
      "Valid Password\n"
     ]
    },
    {
     "data": {
      "text/plain": [
       "True"
      ]
     },
     "execution_count": 1,
     "metadata": {},
     "output_type": "execute_result"
    }
   ],
   "source": [
    "#Creating python program for password validation\n",
    "import re\n",
    "user_password = input(\"Please enter your preferred password: \")\n",
    "def validate_password(password):\n",
    "    reasons = []\n",
    "    if len(password) <= 8:\n",
    "        reasons.append(\"Reason1: Your password must contain eight character\")\n",
    "    if not re.search(\"[a-z]\", password):\n",
    "            reasons.append(\"Reason2: Your password should contain at least one lowercase alphabet\")\n",
    "    if not re.search(\"[A-Z]\", password):\n",
    "            reasons.append(\"Reason3: Your password should contain at least one uppercase alphabet\")\n",
    "    if not re.search(\"[0-9]\", password):\n",
    "            reasons.append(\"Reason4: Your password should contain at least one digit\")\n",
    "    if not re.search(\"[!@#$]\", password):\n",
    "            reasons.append(\"Reason5: Your password must contain at least one of the special characters: !, @, #, or $\")\n",
    "            \n",
    "    if reasons:\n",
    "        print(\"Invalid Password.Reasons:\")\n",
    "        for reason in reasons[:2]:\n",
    "            print(\"- \", reason)\n",
    "        return False\n",
    "    \n",
    "        \n",
    "    else:\n",
    "        print(\"Valid Password\")\n",
    "        return True\n",
    "validate_password(user_password)"
   ]
  },
  {
   "cell_type": "code",
   "execution_count": 2,
   "id": "a97321d2",
   "metadata": {},
   "outputs": [
    {
     "name": "stdout",
     "output_type": "stream",
     "text": [
      "Please enter your preferred password: UoM2018\n",
      "Invalid Password.Reasons:\n",
      "-  Reason 1: Your password must contain eight character\n",
      "-  Reason 5: Your password must contain at least one of the special characters: !, @, #, or $\n"
     ]
    },
    {
     "data": {
      "text/plain": [
       "False"
      ]
     },
     "execution_count": 2,
     "metadata": {},
     "output_type": "execute_result"
    }
   ],
   "source": [
    "import re\n",
    "user_password = input(\"Please enter your preferred password: \")\n",
    "def validate_password(password):\n",
    "    reasons = []\n",
    "    if len(password) <= 8:\n",
    "        reasons.append(\"Reason 1: Your password must contain eight character\")\n",
    "    if not re.search(\"[a-z]\", password):\n",
    "            reasons.append(\"Reason 2: Your password should contain at least one lowercase alphabet\")\n",
    "    if not re.search(\"[A-Z]\", password):\n",
    "            reasons.append(\"Reason 3: Your password should contain at least one uppercase alphabet\")\n",
    "    if not re.search(\"[0-9]\", password):\n",
    "            reasons.append(\"Reason 4: Your password should contain at least one digit\")\n",
    "    if not re.search(\"[!@#$]\", password):\n",
    "            reasons.append(\"Reason 5: Your password must contain at least one of the special characters: !, @, #, or $\")\n",
    "            \n",
    "    if reasons:\n",
    "        print(\"Invalid Password.Reasons:\")\n",
    "        for reason in reasons[:2]:\n",
    "            print(\"- \", reason)\n",
    "        return False\n",
    "    \n",
    "        \n",
    "    else:\n",
    "        print(\"Valid Password\")\n",
    "        return True\n",
    "validate_password(user_password)"
   ]
  },
  {
   "cell_type": "code",
   "execution_count": null,
   "id": "3e51a638",
   "metadata": {},
   "outputs": [],
   "source": []
  }
 ],
 "metadata": {
  "kernelspec": {
   "display_name": "Python 3 (ipykernel)",
   "language": "python",
   "name": "python3"
  },
  "language_info": {
   "codemirror_mode": {
    "name": "ipython",
    "version": 3
   },
   "file_extension": ".py",
   "mimetype": "text/x-python",
   "name": "python",
   "nbconvert_exporter": "python",
   "pygments_lexer": "ipython3",
   "version": "3.11.3"
  }
 },
 "nbformat": 4,
 "nbformat_minor": 5
}
